{
  "nbformat": 4,
  "nbformat_minor": 0,
  "metadata": {
    "colab": {
      "provenance": [],
      "authorship_tag": "ABX9TyN0nk4jReOM+ovormNvARZu",
      "include_colab_link": true
    },
    "kernelspec": {
      "name": "python3",
      "display_name": "Python 3"
    },
    "language_info": {
      "name": "python"
    }
  },
  "cells": [
    {
      "cell_type": "markdown",
      "metadata": {
        "id": "view-in-github",
        "colab_type": "text"
      },
      "source": [
        "<a href=\"https://colab.research.google.com/github/Bansariahir123/calculating-confidence-interval-python-code/blob/main/Untitled55.ipynb\" target=\"_parent\"><img src=\"https://colab.research.google.com/assets/colab-badge.svg\" alt=\"Open In Colab\"/></a>"
      ]
    },
    {
      "cell_type": "code",
      "source": [
        "import numpy as np\n",
        "import statsmodels.api as sm\n",
        "import pandas as pd"
      ],
      "metadata": {
        "id": "_cApwoWHNYQF"
      },
      "execution_count": null,
      "outputs": []
    },
    {
      "cell_type": "code",
      "source": [
        "# Corrected dataset\n",
        "corrected_data = {\n",
        "    \"Quality\": [2, 1, 2, 2, 1, 3, 3, 5, 5, 6, 6, 6, 6, 7, 7, 7, 7, 8, 9, 9],\n",
        "    \"Alcohol_Content\": [7.1, 7.9, 8.2, 8.6, 8.6, 8.7, 9.2, 9.9, 10.7, 10.5,\n",
        "                        10.8, 11.3, 10.9, 11.1, 11.1, 11.1, 11.8, 12.4, 12.7, 12.1],\n",
        "    \"Chlorides\": [0.063, 0.064, 0.073, 0.069, 0.074, 0.071, 0.078, 0.078,\n",
        "                  0.079, 0.082, 0.082, 0.083, 0.088, 0.081, 0.099, 0.099,\n",
        "                  0.121, 0.145, 0.158, 0.156]\n",
        "}\n",
        "\n",
        "# Convert to DataFrame\n",
        "df = pd.DataFrame(corrected_data)\n",
        "\n",
        "# Define independent variables (Alcohol Content, Chlorides) and dependent variable (Quality)\n",
        "X = df[[\"Alcohol_Content\", \"Chlorides\"]]\n",
        "y = df[\"Quality\"]\n",
        "\n",
        "# Add constant term for intercept in regression\n",
        "X = sm.add_constant(X)\n",
        "\n",
        "# Fit multiple linear regression model\n",
        "model = sm.OLS(y, X).fit()\n",
        "\n",
        "# Display regression summary\n",
        "model.summary()\n"
      ],
      "metadata": {
        "colab": {
          "base_uri": "https://localhost:8080/",
          "height": 473
        },
        "id": "1c5uu6OQNHnb",
        "outputId": "59846ce3-7d79-4bef-d20b-c576347b67ca"
      },
      "execution_count": null,
      "outputs": [
        {
          "output_type": "execute_result",
          "data": {
            "text/plain": [
              "<class 'statsmodels.iolib.summary.Summary'>\n",
              "\"\"\"\n",
              "                            OLS Regression Results                            \n",
              "==============================================================================\n",
              "Dep. Variable:                Quality   R-squared:                       0.921\n",
              "Model:                            OLS   Adj. R-squared:                  0.912\n",
              "Method:                 Least Squares   F-statistic:                     99.10\n",
              "Date:                Tue, 28 Jan 2025   Prob (F-statistic):           4.26e-10\n",
              "Time:                        09:20:05   Log-Likelihood:                -21.543\n",
              "No. Observations:                  20   AIC:                             49.09\n",
              "Df Residuals:                      17   BIC:                             52.07\n",
              "Df Model:                           2                                         \n",
              "Covariance Type:            nonrobust                                         \n",
              "===================================================================================\n",
              "                      coef    std err          t      P>|t|      [0.025      0.975]\n",
              "-----------------------------------------------------------------------------------\n",
              "const             -10.1397      1.288     -7.870      0.000     -12.858      -7.421\n",
              "Alcohol_Content     1.4093      0.187      7.519      0.000       1.014       1.805\n",
              "Chlorides           8.8508     10.271      0.862      0.401     -12.819      30.521\n",
              "==============================================================================\n",
              "Omnibus:                        0.351   Durbin-Watson:                   1.799\n",
              "Prob(Omnibus):                  0.839   Jarque-Bera (JB):                0.001\n",
              "Skew:                          -0.015   Prob(JB):                         1.00\n",
              "Kurtosis:                       2.987   Cond. No.                         621.\n",
              "==============================================================================\n",
              "\n",
              "Notes:\n",
              "[1] Standard Errors assume that the covariance matrix of the errors is correctly specified.\n",
              "\"\"\""
            ],
            "text/html": [
              "<table class=\"simpletable\">\n",
              "<caption>OLS Regression Results</caption>\n",
              "<tr>\n",
              "  <th>Dep. Variable:</th>         <td>Quality</td>     <th>  R-squared:         </th> <td>   0.921</td>\n",
              "</tr>\n",
              "<tr>\n",
              "  <th>Model:</th>                   <td>OLS</td>       <th>  Adj. R-squared:    </th> <td>   0.912</td>\n",
              "</tr>\n",
              "<tr>\n",
              "  <th>Method:</th>             <td>Least Squares</td>  <th>  F-statistic:       </th> <td>   99.10</td>\n",
              "</tr>\n",
              "<tr>\n",
              "  <th>Date:</th>             <td>Tue, 28 Jan 2025</td> <th>  Prob (F-statistic):</th> <td>4.26e-10</td>\n",
              "</tr>\n",
              "<tr>\n",
              "  <th>Time:</th>                 <td>09:20:05</td>     <th>  Log-Likelihood:    </th> <td> -21.543</td>\n",
              "</tr>\n",
              "<tr>\n",
              "  <th>No. Observations:</th>      <td>    20</td>      <th>  AIC:               </th> <td>   49.09</td>\n",
              "</tr>\n",
              "<tr>\n",
              "  <th>Df Residuals:</th>          <td>    17</td>      <th>  BIC:               </th> <td>   52.07</td>\n",
              "</tr>\n",
              "<tr>\n",
              "  <th>Df Model:</th>              <td>     2</td>      <th>                     </th>     <td> </td>   \n",
              "</tr>\n",
              "<tr>\n",
              "  <th>Covariance Type:</th>      <td>nonrobust</td>    <th>                     </th>     <td> </td>   \n",
              "</tr>\n",
              "</table>\n",
              "<table class=\"simpletable\">\n",
              "<tr>\n",
              "         <td></td>            <th>coef</th>     <th>std err</th>      <th>t</th>      <th>P>|t|</th>  <th>[0.025</th>    <th>0.975]</th>  \n",
              "</tr>\n",
              "<tr>\n",
              "  <th>const</th>           <td>  -10.1397</td> <td>    1.288</td> <td>   -7.870</td> <td> 0.000</td> <td>  -12.858</td> <td>   -7.421</td>\n",
              "</tr>\n",
              "<tr>\n",
              "  <th>Alcohol_Content</th> <td>    1.4093</td> <td>    0.187</td> <td>    7.519</td> <td> 0.000</td> <td>    1.014</td> <td>    1.805</td>\n",
              "</tr>\n",
              "<tr>\n",
              "  <th>Chlorides</th>       <td>    8.8508</td> <td>   10.271</td> <td>    0.862</td> <td> 0.401</td> <td>  -12.819</td> <td>   30.521</td>\n",
              "</tr>\n",
              "</table>\n",
              "<table class=\"simpletable\">\n",
              "<tr>\n",
              "  <th>Omnibus:</th>       <td> 0.351</td> <th>  Durbin-Watson:     </th> <td>   1.799</td>\n",
              "</tr>\n",
              "<tr>\n",
              "  <th>Prob(Omnibus):</th> <td> 0.839</td> <th>  Jarque-Bera (JB):  </th> <td>   0.001</td>\n",
              "</tr>\n",
              "<tr>\n",
              "  <th>Skew:</th>          <td>-0.015</td> <th>  Prob(JB):          </th> <td>    1.00</td>\n",
              "</tr>\n",
              "<tr>\n",
              "  <th>Kurtosis:</th>      <td> 2.987</td> <th>  Cond. No.          </th> <td>    621.</td>\n",
              "</tr>\n",
              "</table><br/><br/>Notes:<br/>[1] Standard Errors assume that the covariance matrix of the errors is correctly specified."
            ],
            "text/latex": "\\begin{center}\n\\begin{tabular}{lclc}\n\\toprule\n\\textbf{Dep. Variable:}    &     Quality      & \\textbf{  R-squared:         } &     0.921   \\\\\n\\textbf{Model:}            &       OLS        & \\textbf{  Adj. R-squared:    } &     0.912   \\\\\n\\textbf{Method:}           &  Least Squares   & \\textbf{  F-statistic:       } &     99.10   \\\\\n\\textbf{Date:}             & Tue, 28 Jan 2025 & \\textbf{  Prob (F-statistic):} &  4.26e-10   \\\\\n\\textbf{Time:}             &     09:20:05     & \\textbf{  Log-Likelihood:    } &   -21.543   \\\\\n\\textbf{No. Observations:} &          20      & \\textbf{  AIC:               } &     49.09   \\\\\n\\textbf{Df Residuals:}     &          17      & \\textbf{  BIC:               } &     52.07   \\\\\n\\textbf{Df Model:}         &           2      & \\textbf{                     } &             \\\\\n\\textbf{Covariance Type:}  &    nonrobust     & \\textbf{                     } &             \\\\\n\\bottomrule\n\\end{tabular}\n\\begin{tabular}{lcccccc}\n                          & \\textbf{coef} & \\textbf{std err} & \\textbf{t} & \\textbf{P$> |$t$|$} & \\textbf{[0.025} & \\textbf{0.975]}  \\\\\n\\midrule\n\\textbf{const}            &     -10.1397  &        1.288     &    -7.870  &         0.000        &      -12.858    &       -7.421     \\\\\n\\textbf{Alcohol\\_Content} &       1.4093  &        0.187     &     7.519  &         0.000        &        1.014    &        1.805     \\\\\n\\textbf{Chlorides}        &       8.8508  &       10.271     &     0.862  &         0.401        &      -12.819    &       30.521     \\\\\n\\bottomrule\n\\end{tabular}\n\\begin{tabular}{lclc}\n\\textbf{Omnibus:}       &  0.351 & \\textbf{  Durbin-Watson:     } &    1.799  \\\\\n\\textbf{Prob(Omnibus):} &  0.839 & \\textbf{  Jarque-Bera (JB):  } &    0.001  \\\\\n\\textbf{Skew:}          & -0.015 & \\textbf{  Prob(JB):          } &     1.00  \\\\\n\\textbf{Kurtosis:}      &  2.987 & \\textbf{  Cond. No.          } &     621.  \\\\\n\\bottomrule\n\\end{tabular}\n%\\caption{OLS Regression Results}\n\\end{center}\n\nNotes: \\newline\n [1] Standard Errors assume that the covariance matrix of the errors is correctly specified."
          },
          "metadata": {},
          "execution_count": 4
        }
      ]
    },
    {
      "cell_type": "code",
      "source": [
        "import statsmodels.api as sm\n",
        "import numpy as np\n",
        "import scipy.stats as stats\n",
        "\n",
        "# Given values for prediction\n",
        "alcohol_content = 9\n",
        "chlorides = 0.08\n",
        "\n",
        "# Coefficients from the regression model\n",
        "intercept = model.params['const']\n",
        "coef_alcohol = model.params['Alcohol_Content']\n",
        "coef_chlorides = model.params['Chlorides']\n",
        "\n",
        "# Predicted quality (mean prediction)\n",
        "y_hat = intercept + (coef_alcohol * alcohol_content) + (coef_chlorides * chlorides)\n",
        "\n",
        "# Degrees of freedom\n",
        "df_resid = model.df_resid\n",
        "\n",
        "# Standard error of prediction for the mean\n",
        "# Get the covariance matrix and calculate the variance of the predicted value\n",
        "X_new = np.array([1, alcohol_content, chlorides])  # Add constant (1) for the intercept\n",
        "se_y_hat = np.sqrt(np.dot(X_new, np.dot(model.cov_params(), X_new.T)))\n",
        "\n",
        "# t critical value for 95% CI\n",
        "t_critical = stats.t.ppf(1 - 0.025, df_resid)\n",
        "\n",
        "# 95% Confidence Interval (CI) for mean quality\n",
        "ci_lower = y_hat - t_critical * se_y_hat\n",
        "ci_upper = y_hat + t_critical * se_y_hat\n",
        "\n",
        "# Mean squared error (for PI)\n",
        "mse = model.mse_resid\n",
        "\n",
        "# Standard error of prediction for individual point (for PI)\n",
        "se_individual = np.sqrt(se_y_hat ** 2 + mse)\n",
        "\n",
        "# 95% Prediction Interval (PI) for individual quality\n",
        "pi_lower = y_hat - t_critical * se_individual\n",
        "pi_upper = y_hat + t_critical * se_individual\n",
        "print(df_resid)\n",
        "print(t_critical)\n",
        "print(f\"Predicted Quality (Yhat): {y_hat:.2f}\")\n",
        "print(f\"95% Confidence Interval (CI) for mean: ({ci_lower:.2f}, {ci_upper:.2f})\")\n",
        "print(f\"95% Prediction Interval (PI) for individual: ({pi_lower:.2f}, {pi_upper:.2f})\")\n"
      ],
      "metadata": {
        "colab": {
          "base_uri": "https://localhost:8080/"
        },
        "id": "Vtr5gYY6TVtK",
        "outputId": "d6fe113f-44e1-48a0-fc09-be9e5f93f3df"
      },
      "execution_count": null,
      "outputs": [
        {
          "output_type": "stream",
          "name": "stdout",
          "text": [
            "17.0\n",
            "2.1098155778331806\n",
            "Predicted Quality (Yhat): 3.25\n",
            "95% Confidence Interval (CI) for mean: (2.77, 3.73)\n",
            "95% Prediction Interval (PI) for individual: (1.56, 4.95)\n"
          ]
        }
      ]
    },
    {
      "cell_type": "code",
      "source": [
        "import statsmodels.api as sm\n",
        "import numpy as np\n",
        "import scipy.stats as stats\n",
        "\n",
        "# Assuming the model is already fitted as `model`:\n",
        "# Replace these values with the desired values for prediction\n",
        "alcohol_content = 9\n",
        "chlorides = 0.08\n",
        "\n",
        "# Coefficients from the regression model\n",
        "intercept = model.params['const']\n",
        "coef_alcohol = model.params['Alcohol_Content']\n",
        "coef_chlorides = model.params['Chlorides']\n",
        "\n",
        "# Predicted quality (mean prediction)\n",
        "y_hat = intercept + (coef_alcohol * alcohol_content) + (coef_chlorides * chlorides)\n",
        "\n",
        "# Degrees of freedom (for t-distribution)\n",
        "df_resid = model.df_resid\n",
        "\n",
        "# Standard error of prediction for the mean\n",
        "# X_new: The feature vector for new data point, including the intercept (constant term)\n",
        "X_new = np.array([1, alcohol_content, chlorides])  # Add constant (1) for the intercept\n",
        "se_y_hat = np.sqrt(np.dot(X_new, np.dot(model.cov_params(), X_new.T)))\n",
        "\n",
        "# t critical value for 95% CI\n",
        "t_critical = stats.t.ppf(1 - 0.025, df_resid)\n",
        "\n",
        "# 95% Confidence Interval (CI) for mean quality\n",
        "ci_lower = y_hat - t_critical * se_y_hat\n",
        "ci_upper = y_hat + t_critical * se_y_hat\n",
        "\n",
        "# Mean squared error (for PI)\n",
        "mse = model.mse_resid\n",
        "\n",
        "# Standard error of prediction for individual point (for PI)\n",
        "se_individual = np.sqrt(se_y_hat ** 2 + mse)\n",
        "\n",
        "# 95% Prediction Interval (PI) for individual quality\n",
        "pi_lower = y_hat - t_critical * se_individual\n",
        "pi_upper = y_hat + t_critical * se_individual\n",
        "\n",
        "print(f\"Predicted Quality (Yhat): {y_hat:.2f}\")\n",
        "print(f\"95% Confidence Interval (CI) for mean: ({ci_lower:.2f}, {ci_upper:.2f})\")\n",
        "print(f\"95% Prediction Interval (PI) for individual: ({pi_lower:.2f}, {pi_upper:.2f})\")\n"
      ],
      "metadata": {
        "id": "VCzBYbgQYn-S",
        "outputId": "13467e02-7e77-4ff8-b6a8-adb33525b8bb",
        "colab": {
          "base_uri": "https://localhost:8080/"
        }
      },
      "execution_count": null,
      "outputs": [
        {
          "output_type": "stream",
          "name": "stdout",
          "text": [
            "Predicted Quality (Yhat): 3.25\n",
            "95% Confidence Interval (CI) for mean: (2.77, 3.73)\n",
            "95% Prediction Interval (PI) for individual: (1.56, 4.95)\n"
          ]
        }
      ]
    },
    {
      "cell_type": "code",
      "source": [
        "import statsmodels.api as sm\n",
        "import numpy as np\n",
        "import scipy.stats as stats\n",
        "\n",
        "# Given values for prediction\n",
        "alcohol_content = 9\n",
        "chlorides = 0.08\n",
        "\n",
        "# Coefficients and intercept from the regression model\n",
        "intercept = model.params['const']\n",
        "coef_alcohol = model.params['Alcohol_Content']\n",
        "coef_chlorides = model.params['Chlorides']\n",
        "\n",
        "# Predicted quality\n",
        "y_hat = intercept + (coef_alcohol * alcohol_content) + (coef_chlorides * chlorides)\n",
        "\n",
        "# Degrees of freedom\n",
        "df_resid = model.df_resid\n",
        "\n",
        "# Standard error of prediction (for CI)\n",
        "se_y_hat = np.sqrt(np.sum(model.cov_params().iloc[1:, 1:].values))\n",
        "\n",
        "# t critical value for 95% CI\n",
        "t_critical = stats.t.ppf(1 - 0.025, df_resid)\n",
        "\n",
        "# 95% Confidence Interval (CI) for mean quality\n",
        "ci_lower = y_hat - t_critical * se_y_hat\n",
        "ci_upper = y_hat + t_critical * se_y_hat\n",
        "\n",
        "# Mean squared error (for PI)\n",
        "mse = model.mse_resid\n",
        "\n",
        "# Standard error of prediction for individual point (for PI)\n",
        "se_individual = np.sqrt(se_y_hat ** 2 + mse)\n",
        "\n",
        "# 95% Prediction Interval (PI) for individual quality\n",
        "pi_lower = y_hat - t_critical * se_individual\n",
        "pi_upper = y_hat + t_critical * se_individual\n",
        "\n",
        "print(f\"Predicted Quality (Yhat): {y_hat:.2f}\")\n",
        "print(f\"95% Confidence Interval (CI) for mean: ({ci_lower:.2f}, {ci_upper:.2f})\")\n",
        "print(f\"95% Prediction Interval (PI) for individual: ({pi_lower:.2f}, {pi_upper:.2f})\")\n"
      ],
      "metadata": {
        "colab": {
          "base_uri": "https://localhost:8080/"
        },
        "id": "kTWLI-QjSmWz",
        "outputId": "8f28f4af-b2ff-4bca-ba20-02bd1f03a393"
      },
      "execution_count": null,
      "outputs": [
        {
          "output_type": "stream",
          "name": "stdout",
          "text": [
            "Predicted Quality (Yhat): 3.25\n",
            "95% Confidence Interval (CI) for mean: (-18.10, 24.60)\n",
            "95% Prediction Interval (PI) for individual: (-18.16, 24.66)\n"
          ]
        }
      ]
    },
    {
      "cell_type": "code",
      "source": [
        "import numpy as np\n",
        "import statsmodels.api as sm\n",
        "import scipy.stats as st\n",
        "\n",
        "# Example data\n",
        "data = {\n",
        "    \"Quality\": [2, 1, 2, 2, 1, 3, 3, 5, 5, 6, 6, 6, 6, 7, 7, 7, 7, 8, 9, 9],\n",
        "    \"Alcohol_Content\": [7.1, 7.9, 8.2, 8.6, 8.6, 8.7, 9.2, 9.9, 10.7, 10.5,\n",
        "                        10.8, 11.3, 10.9, 11.1, 11.1, 11.1, 11.8, 12.4, 12.7, 12.1],\n",
        "    \"Chlorides\": [0.063, 0.064, 0.073, 0.069, 0.074, 0.071, 0.078, 0.078,\n",
        "                  0.079, 0.082, 0.082, 0.083, 0.088, 0.081, 0.099, 0.099,\n",
        "                  0.121, 0.145, 0.158, 0.156]\n",
        "}\n",
        "\n",
        "# Convert to DataFrame\n",
        "df = pd.DataFrame(data)\n",
        "\n",
        "# Define independent variables and dependent variable\n",
        "X = df[[\"Alcohol_Content\", \"Chlorides\"]]\n",
        "y = df[\"Quality\"]\n",
        "\n",
        "# Add constant term for intercept in regression\n",
        "X = sm.add_constant(X)\n",
        "\n",
        "# Fit the regression model\n",
        "model = sm.OLS(y, X).fit()\n",
        "\n",
        "# Predicted value (quality rating at 9% alcohol and 0.08 chloride)\n",
        "X_new = pd.DataFrame({\"const\": [1], \"Alcohol_Content\": [9], \"Chlorides\": [0.08]})\n",
        "y_hat = model.predict(X_new)[0]\n",
        "\n",
        "# Standard error of the prediction\n",
        "predicted_values = model.predict(X)\n",
        "residuals = y - predicted_values\n",
        "mse = np.mean(residuals**2)\n",
        "se_y_hat = np.sqrt(mse * (1 + np.dot(X_new, np.linalg.inv(X.T @ X)) @ X_new.T))\n",
        "\n",
        "# t critical value for 95% confidence (two-tailed)\n",
        "t_critical = st.t.ppf(1 - 0.025, df=len(df) - 3)\n",
        "\n",
        "# 95% Confidence Interval for the Mean Quality Rating\n",
        "ci_lower = y_hat - t_critical * se_y_hat\n",
        "ci_upper = y_hat + t_critical * se_y_hat\n",
        "\n",
        "# 95% Prediction Interval for an Individual Quality Rating\n",
        "pi_lower = y_hat - t_critical * np.sqrt(se_y_hat**2 + mse)\n",
        "pi_upper = y_hat + t_critical * np.sqrt(se_y_hat**2 + mse)\n",
        "\n",
        "# Output Results\n",
        "print(f\"Predicted Quality: {y_hat}\")\n",
        "print(f\"95% Confidence Interval: ({ci_lower}, {ci_upper})\")\n",
        "print(f\"95% Prediction Interval: ({pi_lower}, {pi_upper})\")\n"
      ],
      "metadata": {
        "colab": {
          "base_uri": "https://localhost:8080/"
        },
        "id": "Ub93Zi2ARUTH",
        "outputId": "2e105582-f6f6-4094-a6c7-be8d45a0721c"
      },
      "execution_count": null,
      "outputs": [
        {
          "output_type": "stream",
          "name": "stdout",
          "text": [
            "Predicted Quality: 3.251991329855883\n",
            "95% Confidence Interval: (          0\n",
            "0  1.688742,           0\n",
            "0  4.815241)\n",
            "95% Prediction Interval: (          0\n",
            "0  1.086166,           0\n",
            "0  5.417817)\n"
          ]
        }
      ]
    },
    {
      "cell_type": "code",
      "execution_count": null,
      "metadata": {
        "colab": {
          "base_uri": "https://localhost:8080/",
          "height": 356
        },
        "id": "eCpLLvpCMd6O",
        "outputId": "c3c03986-7242-44d8-f1fb-c86e5cff1553"
      },
      "outputs": [
        {
          "output_type": "error",
          "ename": "ValueError",
          "evalue": "shapes (1,2) and (3,) not aligned: 2 (dim 1) != 3 (dim 0)",
          "traceback": [
            "\u001b[0;31m---------------------------------------------------------------------------\u001b[0m",
            "\u001b[0;31mValueError\u001b[0m                                Traceback (most recent call last)",
            "\u001b[0;32m<ipython-input-1-98fcd1e839e8>\u001b[0m in \u001b[0;36m<cell line: 0>\u001b[0;34m()\u001b[0m\n\u001b[1;32m     20\u001b[0m \u001b[0;34m\u001b[0m\u001b[0m\n\u001b[1;32m     21\u001b[0m \u001b[0;31m# Get prediction summary\u001b[0m\u001b[0;34m\u001b[0m\u001b[0;34m\u001b[0m\u001b[0m\n\u001b[0;32m---> 22\u001b[0;31m \u001b[0mprediction_summary\u001b[0m \u001b[0;34m=\u001b[0m \u001b[0mmodel\u001b[0m\u001b[0;34m.\u001b[0m\u001b[0mget_prediction\u001b[0m\u001b[0;34m(\u001b[0m\u001b[0mX_new\u001b[0m\u001b[0;34m)\u001b[0m\u001b[0;34m.\u001b[0m\u001b[0msummary_frame\u001b[0m\u001b[0;34m(\u001b[0m\u001b[0malpha\u001b[0m\u001b[0;34m=\u001b[0m\u001b[0;36m0.05\u001b[0m\u001b[0;34m)\u001b[0m\u001b[0;34m\u001b[0m\u001b[0;34m\u001b[0m\u001b[0m\n\u001b[0m\u001b[1;32m     23\u001b[0m \u001b[0;34m\u001b[0m\u001b[0m\n\u001b[1;32m     24\u001b[0m \u001b[0;31m# Extract confidence and prediction intervals\u001b[0m\u001b[0;34m\u001b[0m\u001b[0;34m\u001b[0m\u001b[0m\n",
            "\u001b[0;32m/usr/local/lib/python3.11/dist-packages/statsmodels/regression/linear_model.py\u001b[0m in \u001b[0;36mget_prediction\u001b[0;34m(self, exog, transform, weights, row_labels, **kwargs)\u001b[0m\n\u001b[1;32m   2690\u001b[0m                        row_labels=None, **kwargs):\n\u001b[1;32m   2691\u001b[0m \u001b[0;34m\u001b[0m\u001b[0m\n\u001b[0;32m-> 2692\u001b[0;31m         return pred.get_prediction(\n\u001b[0m\u001b[1;32m   2693\u001b[0m             \u001b[0mself\u001b[0m\u001b[0;34m,\u001b[0m \u001b[0mexog\u001b[0m\u001b[0;34m=\u001b[0m\u001b[0mexog\u001b[0m\u001b[0;34m,\u001b[0m \u001b[0mtransform\u001b[0m\u001b[0;34m=\u001b[0m\u001b[0mtransform\u001b[0m\u001b[0;34m,\u001b[0m \u001b[0mweights\u001b[0m\u001b[0;34m=\u001b[0m\u001b[0mweights\u001b[0m\u001b[0;34m,\u001b[0m\u001b[0;34m\u001b[0m\u001b[0;34m\u001b[0m\u001b[0m\n\u001b[1;32m   2694\u001b[0m             row_labels=row_labels, **kwargs)\n",
            "\u001b[0;32m/usr/local/lib/python3.11/dist-packages/statsmodels/regression/_prediction.py\u001b[0m in \u001b[0;36mget_prediction\u001b[0;34m(self, exog, transform, weights, row_labels, pred_kwds)\u001b[0m\n\u001b[1;32m    196\u001b[0m     \u001b[0;32mif\u001b[0m \u001b[0mpred_kwds\u001b[0m \u001b[0;32mis\u001b[0m \u001b[0;32mNone\u001b[0m\u001b[0;34m:\u001b[0m\u001b[0;34m\u001b[0m\u001b[0;34m\u001b[0m\u001b[0m\n\u001b[1;32m    197\u001b[0m         \u001b[0mpred_kwds\u001b[0m \u001b[0;34m=\u001b[0m \u001b[0;34m{\u001b[0m\u001b[0;34m}\u001b[0m\u001b[0;34m\u001b[0m\u001b[0;34m\u001b[0m\u001b[0m\n\u001b[0;32m--> 198\u001b[0;31m     \u001b[0mpredicted_mean\u001b[0m \u001b[0;34m=\u001b[0m \u001b[0mself\u001b[0m\u001b[0;34m.\u001b[0m\u001b[0mmodel\u001b[0m\u001b[0;34m.\u001b[0m\u001b[0mpredict\u001b[0m\u001b[0;34m(\u001b[0m\u001b[0mself\u001b[0m\u001b[0;34m.\u001b[0m\u001b[0mparams\u001b[0m\u001b[0;34m,\u001b[0m \u001b[0mexog\u001b[0m\u001b[0;34m,\u001b[0m \u001b[0;34m**\u001b[0m\u001b[0mpred_kwds\u001b[0m\u001b[0;34m)\u001b[0m\u001b[0;34m\u001b[0m\u001b[0;34m\u001b[0m\u001b[0m\n\u001b[0m\u001b[1;32m    199\u001b[0m \u001b[0;34m\u001b[0m\u001b[0m\n\u001b[1;32m    200\u001b[0m     \u001b[0mcovb\u001b[0m \u001b[0;34m=\u001b[0m \u001b[0mself\u001b[0m\u001b[0;34m.\u001b[0m\u001b[0mcov_params\u001b[0m\u001b[0;34m(\u001b[0m\u001b[0;34m)\u001b[0m\u001b[0;34m\u001b[0m\u001b[0;34m\u001b[0m\u001b[0m\n",
            "\u001b[0;32m/usr/local/lib/python3.11/dist-packages/statsmodels/regression/linear_model.py\u001b[0m in \u001b[0;36mpredict\u001b[0;34m(self, params, exog)\u001b[0m\n\u001b[1;32m    407\u001b[0m             \u001b[0mexog\u001b[0m \u001b[0;34m=\u001b[0m \u001b[0mself\u001b[0m\u001b[0;34m.\u001b[0m\u001b[0mexog\u001b[0m\u001b[0;34m\u001b[0m\u001b[0;34m\u001b[0m\u001b[0m\n\u001b[1;32m    408\u001b[0m \u001b[0;34m\u001b[0m\u001b[0m\n\u001b[0;32m--> 409\u001b[0;31m         \u001b[0;32mreturn\u001b[0m \u001b[0mnp\u001b[0m\u001b[0;34m.\u001b[0m\u001b[0mdot\u001b[0m\u001b[0;34m(\u001b[0m\u001b[0mexog\u001b[0m\u001b[0;34m,\u001b[0m \u001b[0mparams\u001b[0m\u001b[0;34m)\u001b[0m\u001b[0;34m\u001b[0m\u001b[0;34m\u001b[0m\u001b[0m\n\u001b[0m\u001b[1;32m    410\u001b[0m \u001b[0;34m\u001b[0m\u001b[0m\n\u001b[1;32m    411\u001b[0m     \u001b[0;32mdef\u001b[0m \u001b[0mget_distribution\u001b[0m\u001b[0;34m(\u001b[0m\u001b[0mself\u001b[0m\u001b[0;34m,\u001b[0m \u001b[0mparams\u001b[0m\u001b[0;34m,\u001b[0m \u001b[0mscale\u001b[0m\u001b[0;34m,\u001b[0m \u001b[0mexog\u001b[0m\u001b[0;34m=\u001b[0m\u001b[0;32mNone\u001b[0m\u001b[0;34m,\u001b[0m \u001b[0mdist_class\u001b[0m\u001b[0;34m=\u001b[0m\u001b[0;32mNone\u001b[0m\u001b[0;34m)\u001b[0m\u001b[0;34m:\u001b[0m\u001b[0;34m\u001b[0m\u001b[0;34m\u001b[0m\u001b[0m\n",
            "\u001b[0;31mValueError\u001b[0m: shapes (1,2) and (3,) not aligned: 2 (dim 1) != 3 (dim 0)"
          ]
        }
      ],
      "source": [
        "import numpy as np\n",
        "import statsmodels.api as sm\n",
        "\n",
        "# Given data\n",
        "Y = np.array([2, 1, 2, 2, 1, 3, 3, 5, 5, 6, 6, 6, 6, 7, 7, 7, 7, 8, 9, 9])\n",
        "X1 = np.array([7.1, 7.9, 8.2, 8.6, 8.6, 8.7, 9.2, 9.9, 10.7, 10.5,\n",
        "               10.8, 11.3, 10.9, 11.1, 11.1, 11.1, 11.8, 12.4, 12.7, 12.1])\n",
        "X2 = np.array([0.063, 0.064, 0.073, 0.069, 0.074, 0.071, 0.078, 0.078,\n",
        "               0.079, 0.082, 0.082, 0.083, 0.088, 0.081, 0.099, 0.099,\n",
        "               0.121, 0.145, 0.158, 0.156])\n",
        "\n",
        "# Add a constant for intercept\n",
        "X = sm.add_constant(np.column_stack((X1, X2)))\n",
        "\n",
        "# Fit the multiple linear regression model\n",
        "model = sm.OLS(Y, X).fit()\n",
        "\n",
        "# Predict for Alcohol = 9%, Chlorides = 0.08\n",
        "X_new = sm.add_constant(np.array([[9, 0.08]]))\n",
        "\n",
        "# Get prediction summary\n",
        "prediction_summary = model.get_prediction(X_new).summary_frame(alpha=0.05)\n",
        "\n",
        "# Extract confidence and prediction intervals\n",
        "conf_int_lower = prediction_summary[\"mean_ci_lower\"].values[0]\n",
        "conf_int_upper = prediction_summary[\"mean_ci_upper\"].values[0]\n",
        "pred_int_lower = prediction_summary[\"obs_ci_lower\"].values[0]\n",
        "pred_int_upper = prediction_summary[\"obs_ci_upper\"].values[0]\n",
        "\n",
        "# Round values\n",
        "conf_int = (round(conf_int_lower, 1), round(conf_int_upper, 1))\n",
        "pred_int = (round(pred_int_lower, 1), round(pred_int_upper, 1))\n",
        "\n",
        "conf_int, pred_int\n"
      ]
    }
  ]
}